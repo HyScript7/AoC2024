{
 "cells": [
  {
   "cell_type": "markdown",
   "metadata": {},
   "source": [
    "# Day Two\n",
    "\n",
    "https://adventofcode.com/2024/day/2\n",
    "\n",
    "## Install\n",
    "\n",
    "```sh\n",
    "pip install numpy\n",
    "```"
   ]
  },
  {
   "cell_type": "code",
   "execution_count": 8,
   "metadata": {},
   "outputs": [],
   "source": [
    "import numpy as np"
   ]
  },
  {
   "cell_type": "code",
   "execution_count": 9,
   "metadata": {},
   "outputs": [],
   "source": [
    "data = \"\"\n",
    "with open(\"./input.txt\", \"r\") as fp:\n",
    "    data = fp.read().splitlines()"
   ]
  },
  {
   "cell_type": "code",
   "execution_count": 29,
   "metadata": {},
   "outputs": [],
   "source": [
    "def parse(line):\n",
    "    line = [int(i) for i in line.split()]\n",
    "    if len(line) < 2:\n",
    "        return True\n",
    "    is_increasing = line[0] < line[1]\n",
    "    for i in range(len(line) - 1):\n",
    "        delta = max(line[i+1], line[i]) - min(line[i+1], line[i])\n",
    "        if delta <= 0 or delta > 3:\n",
    "            return False\n",
    "        if line[i] > line[i+1] and is_increasing:\n",
    "            return False\n",
    "        if line[i] < line[i+1] and not is_increasing:\n",
    "            return False\n",
    "    return True"
   ]
  },
  {
   "cell_type": "code",
   "execution_count": 30,
   "metadata": {},
   "outputs": [],
   "source": [
    "values = []\n",
    "valids = 0\n",
    "for line in data:\n",
    "    if parse(line):\n",
    "        valids += 1"
   ]
  },
  {
   "cell_type": "code",
   "execution_count": null,
   "metadata": {},
   "outputs": [
    {
     "data": {
      "text/plain": [
       "639"
      ]
     },
     "execution_count": 31,
     "metadata": {},
     "output_type": "execute_result"
    }
   ],
   "source": [
    "valids"
   ]
  }
 ],
 "metadata": {
  "kernelspec": {
   "display_name": ".venv",
   "language": "python",
   "name": "python3"
  },
  "language_info": {
   "codemirror_mode": {
    "name": "ipython",
    "version": 3
   },
   "file_extension": ".py",
   "mimetype": "text/x-python",
   "name": "python",
   "nbconvert_exporter": "python",
   "pygments_lexer": "ipython3",
   "version": "3.12.5"
  }
 },
 "nbformat": 4,
 "nbformat_minor": 2
}
